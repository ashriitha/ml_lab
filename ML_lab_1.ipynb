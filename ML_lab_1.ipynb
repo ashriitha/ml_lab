{
  "nbformat": 4,
  "nbformat_minor": 0,
  "metadata": {
    "colab": {
      "provenance": []
    },
    "kernelspec": {
      "name": "python3",
      "display_name": "Python 3"
    },
    "language_info": {
      "name": "python"
    }
  },
  "cells": [
    {
      "cell_type": "code",
      "execution_count": null,
      "metadata": {
        "id": "IGhPjhMU9W8N"
      },
      "outputs": [],
      "source": [
        "def count(list,n,sum):\n",
        "  print(\"pairs with sum\",sum)\n",
        "  for i in range(n):\n",
        "    for j in range(i,n):\n",
        "      if (list[i]+list[j])==sum:\n",
        "        print(list[i],list[j])\n",
        "\n",
        "\n",
        "\n",
        "list=[2,7,4,1,3,6]\n",
        "sum=int(input(\"enter sum\"))\n",
        "print(list)\n",
        "n=len(list)\n",
        "count(list,n,sum)"
      ]
    },
    {
      "cell_type": "code",
      "source": [
        "def fun(list,n):\n",
        "  if (len(list))<3:\n",
        "    print(\"range not possible\")\n",
        "  else:\n",
        "    max=list[0]\n",
        "    for i in range(n):\n",
        "      if max<list[i]:\n",
        "        max=list[i]\n",
        "    min=list[0]\n",
        "    for i in range(n):\n",
        "      if min>list[i]:\n",
        "        min=list[i]\n",
        "  print(\"max is\",max)\n",
        "  print(\"min is\",min)\n",
        "  print(max-min)\n",
        "\n",
        "\n",
        "list=[]\n",
        "n=int(input(\"enter the size\"))\n",
        "for i in range(n):\n",
        "  ele=float(input())\n",
        "  list.append(ele)\n",
        "print(list)\n",
        "fun(list,n)\n"
      ],
      "metadata": {
        "id": "8S5D62HB9cU2"
      },
      "execution_count": null,
      "outputs": []
    },
    {
      "cell_type": "code",
      "source": [
        "def matrix_multi(A, B):\n",
        "    n=len(A)\n",
        "    r=[[0]*n for _ in range(n)]\n",
        "    for i in range(n):\n",
        "        for j in range(n):\n",
        "            for k in range(n):\n",
        "                r[i][j]+=A[i][k]*B[k][j]\n",
        "    return r\n",
        "\n",
        "\n",
        "def power(A,m):\n",
        "    r=A\n",
        "    for _ in range(m - 1):\n",
        "        r=matrix_multi(r, A)\n",
        "    return r\n",
        "\n",
        "\n",
        "\n",
        "A=[[4, 7, 2], [5, 3, 2], [9, 4, 5]]\n",
        "m=int(input(\"enter value of m\"))\n",
        "r=power(A, m)\n",
        "\n",
        "print(\"A^m=\")\n",
        "for i in r:\n",
        "    print(i)"
      ],
      "metadata": {
        "id": "2vMMET9g9lmj"
      },
      "execution_count": null,
      "outputs": []
    },
    {
      "cell_type": "code",
      "source": [
        "def occ(s):\n",
        "    count = {}\n",
        "    for char in s:\n",
        "        if char.isalpha():\n",
        "            if char in count:\n",
        "                count[char] += 1\n",
        "            else:\n",
        "                count[char] = 1\n",
        "\n",
        "    max = max(count, key=count.get)\n",
        "    mcount = count[max]\n",
        "\n",
        "    return max, mcount\n",
        "\n",
        "s = input(\"Enter a string: \")\n",
        "char, count = occ(s)\n",
        "print(f\"The highest occurring character is '{char}' with an occurrence count of {count}.\")\n"
      ],
      "metadata": {
        "id": "ERK9Z3uH9zkz"
      },
      "execution_count": null,
      "outputs": []
    }
  ]
}